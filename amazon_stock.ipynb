{
 "cells": [
  {
   "cell_type": "code",
   "execution_count": 80,
   "metadata": {},
   "outputs": [],
   "source": [
    "import datetime\n",
    "import pandas as pd\n",
    "from datascience import *\n",
    "import numpy as np\n",
    "import matplotlib.pyplot as plt\n",
    "%matplotlib inline"
   ]
  },
  {
   "cell_type": "code",
   "execution_count": 7,
   "metadata": {},
   "outputs": [
    {
     "data": {
      "text/html": [
       "<table border=\"1\" class=\"dataframe\">\n",
       "    <thead>\n",
       "        <tr>\n",
       "            <th>Date</th> <th>Open</th> <th>High</th> <th>Low</th> <th>Close</th> <th>Adj Close</th> <th>Volume</th>\n",
       "        </tr>\n",
       "    </thead>\n",
       "    <tbody>\n",
       "        <tr>\n",
       "            <td>2013-05-07</td> <td>256.31</td> <td>259.74</td> <td>252.91</td> <td>257.73</td> <td>257.73   </td> <td>3133700</td>\n",
       "        </tr>\n",
       "    </tbody>\n",
       "        <tr>\n",
       "            <td>2013-05-08</td> <td>256.87</td> <td>260.3 </td> <td>255.33</td> <td>258.68</td> <td>258.68   </td> <td>2677000</td>\n",
       "        </tr>\n",
       "    </tbody>\n",
       "        <tr>\n",
       "            <td>2013-05-09</td> <td>258.73</td> <td>263.55</td> <td>256.88</td> <td>260.16</td> <td>260.16   </td> <td>2769300</td>\n",
       "        </tr>\n",
       "    </tbody>\n",
       "        <tr>\n",
       "            <td>2013-05-10</td> <td>260.88</td> <td>263.65</td> <td>260.21</td> <td>263.63</td> <td>263.63   </td> <td>3145300</td>\n",
       "        </tr>\n",
       "    </tbody>\n",
       "        <tr>\n",
       "            <td>2013-05-13</td> <td>262.77</td> <td>265.88</td> <td>262   </td> <td>264.51</td> <td>264.51   </td> <td>2149500</td>\n",
       "        </tr>\n",
       "    </tbody>\n",
       "        <tr>\n",
       "            <td>2013-05-14</td> <td>264.5 </td> <td>269.4 </td> <td>264.03</td> <td>268.33</td> <td>268.33   </td> <td>2700000</td>\n",
       "        </tr>\n",
       "    </tbody>\n",
       "        <tr>\n",
       "            <td>2013-05-15</td> <td>267.07</td> <td>269.05</td> <td>264.56</td> <td>266.56</td> <td>266.56   </td> <td>2720500</td>\n",
       "        </tr>\n",
       "    </tbody>\n",
       "        <tr>\n",
       "            <td>2013-05-16</td> <td>265.96</td> <td>268.43</td> <td>263.85</td> <td>264.12</td> <td>264.12   </td> <td>1643500</td>\n",
       "        </tr>\n",
       "    </tbody>\n",
       "        <tr>\n",
       "            <td>2013-05-17</td> <td>265.83</td> <td>269.98</td> <td>265   </td> <td>269.9 </td> <td>269.9    </td> <td>2527300</td>\n",
       "        </tr>\n",
       "    </tbody>\n",
       "        <tr>\n",
       "            <td>2013-05-20</td> <td>269   </td> <td>271.79</td> <td>266.5 </td> <td>267.63</td> <td>267.63   </td> <td>2209000</td>\n",
       "        </tr>\n",
       "    </tbody>\n",
       "</table>\n",
       "<p>... (1250 rows omitted)</p>"
      ],
      "text/plain": [
       "Date       | Open   | High   | Low    | Close  | Adj Close | Volume\n",
       "2013-05-07 | 256.31 | 259.74 | 252.91 | 257.73 | 257.73    | 3133700\n",
       "2013-05-08 | 256.87 | 260.3  | 255.33 | 258.68 | 258.68    | 2677000\n",
       "2013-05-09 | 258.73 | 263.55 | 256.88 | 260.16 | 260.16    | 2769300\n",
       "2013-05-10 | 260.88 | 263.65 | 260.21 | 263.63 | 263.63    | 3145300\n",
       "2013-05-13 | 262.77 | 265.88 | 262    | 264.51 | 264.51    | 2149500\n",
       "2013-05-14 | 264.5  | 269.4  | 264.03 | 268.33 | 268.33    | 2700000\n",
       "2013-05-15 | 267.07 | 269.05 | 264.56 | 266.56 | 266.56    | 2720500\n",
       "2013-05-16 | 265.96 | 268.43 | 263.85 | 264.12 | 264.12    | 1643500\n",
       "2013-05-17 | 265.83 | 269.98 | 265    | 269.9  | 269.9     | 2527300\n",
       "2013-05-20 | 269    | 271.79 | 266.5  | 267.63 | 267.63    | 2209000\n",
       "... (1250 rows omitted)"
      ]
     },
     "execution_count": 7,
     "metadata": {},
     "output_type": "execute_result"
    }
   ],
   "source": [
    "amazon = Table.read_table('AMZN.csv')\n",
    "amazon"
   ]
  },
  {
   "cell_type": "markdown",
   "metadata": {},
   "source": [
    "Convert `Date` strings to `datetime` format."
   ]
  },
  {
   "cell_type": "code",
   "execution_count": 68,
   "metadata": {},
   "outputs": [],
   "source": [
    "def convert_str_time(s):\n",
    "    return datetime.datetime.strptime(s, '%Y-%m-%d')"
   ]
  },
  {
   "cell_type": "markdown",
   "metadata": {},
   "source": [
    "Define function which converts column `Date` to time series. And then add a new column `Date_` to a new `pd.dataframe()` as `df_amzn`."
   ]
  },
  {
   "cell_type": "code",
   "execution_count": 95,
   "metadata": {},
   "outputs": [
    {
     "data": {
      "text/html": [
       "<div>\n",
       "<style scoped>\n",
       "    .dataframe tbody tr th:only-of-type {\n",
       "        vertical-align: middle;\n",
       "    }\n",
       "\n",
       "    .dataframe tbody tr th {\n",
       "        vertical-align: top;\n",
       "    }\n",
       "\n",
       "    .dataframe thead th {\n",
       "        text-align: right;\n",
       "    }\n",
       "</style>\n",
       "<table border=\"1\" class=\"dataframe\">\n",
       "  <thead>\n",
       "    <tr style=\"text-align: right;\">\n",
       "      <th></th>\n",
       "      <th>Date</th>\n",
       "      <th>Open</th>\n",
       "      <th>High</th>\n",
       "      <th>Low</th>\n",
       "      <th>Close</th>\n",
       "      <th>Adj Close</th>\n",
       "      <th>Volume</th>\n",
       "      <th>Date_</th>\n",
       "    </tr>\n",
       "  </thead>\n",
       "  <tbody>\n",
       "    <tr>\n",
       "      <th>0</th>\n",
       "      <td>2013-05-07</td>\n",
       "      <td>256.309998</td>\n",
       "      <td>259.739990</td>\n",
       "      <td>252.910004</td>\n",
       "      <td>257.730011</td>\n",
       "      <td>257.730011</td>\n",
       "      <td>3133700</td>\n",
       "      <td>2013-05-07</td>\n",
       "    </tr>\n",
       "    <tr>\n",
       "      <th>1</th>\n",
       "      <td>2013-05-08</td>\n",
       "      <td>256.869995</td>\n",
       "      <td>260.299988</td>\n",
       "      <td>255.330002</td>\n",
       "      <td>258.679993</td>\n",
       "      <td>258.679993</td>\n",
       "      <td>2677000</td>\n",
       "      <td>2013-05-08</td>\n",
       "    </tr>\n",
       "    <tr>\n",
       "      <th>2</th>\n",
       "      <td>2013-05-09</td>\n",
       "      <td>258.730011</td>\n",
       "      <td>263.549988</td>\n",
       "      <td>256.880005</td>\n",
       "      <td>260.160004</td>\n",
       "      <td>260.160004</td>\n",
       "      <td>2769300</td>\n",
       "      <td>2013-05-09</td>\n",
       "    </tr>\n",
       "    <tr>\n",
       "      <th>3</th>\n",
       "      <td>2013-05-10</td>\n",
       "      <td>260.880005</td>\n",
       "      <td>263.649994</td>\n",
       "      <td>260.209991</td>\n",
       "      <td>263.630005</td>\n",
       "      <td>263.630005</td>\n",
       "      <td>3145300</td>\n",
       "      <td>2013-05-10</td>\n",
       "    </tr>\n",
       "    <tr>\n",
       "      <th>4</th>\n",
       "      <td>2013-05-13</td>\n",
       "      <td>262.769989</td>\n",
       "      <td>265.880005</td>\n",
       "      <td>262.000000</td>\n",
       "      <td>264.510010</td>\n",
       "      <td>264.510010</td>\n",
       "      <td>2149500</td>\n",
       "      <td>2013-05-13</td>\n",
       "    </tr>\n",
       "  </tbody>\n",
       "</table>\n",
       "</div>"
      ],
      "text/plain": [
       "         Date        Open        High         Low       Close   Adj Close  \\\n",
       "0  2013-05-07  256.309998  259.739990  252.910004  257.730011  257.730011   \n",
       "1  2013-05-08  256.869995  260.299988  255.330002  258.679993  258.679993   \n",
       "2  2013-05-09  258.730011  263.549988  256.880005  260.160004  260.160004   \n",
       "3  2013-05-10  260.880005  263.649994  260.209991  263.630005  263.630005   \n",
       "4  2013-05-13  262.769989  265.880005  262.000000  264.510010  264.510010   \n",
       "\n",
       "    Volume      Date_  \n",
       "0  3133700 2013-05-07  \n",
       "1  2677000 2013-05-08  \n",
       "2  2769300 2013-05-09  \n",
       "3  3145300 2013-05-10  \n",
       "4  2149500 2013-05-13  "
      ]
     },
     "execution_count": 95,
     "metadata": {},
     "output_type": "execute_result"
    }
   ],
   "source": [
    "df_amzn = amazon.with_column('Date_', amazon.apply(convert_str_time, 'Date')).to_df()\n",
    "df_amzn.head()"
   ]
  },
  {
   "cell_type": "markdown",
   "metadata": {},
   "source": [
    "plot the daily `High` price on line chart."
   ]
  },
  {
   "cell_type": "code",
   "execution_count": 121,
   "metadata": {},
   "outputs": [],
   "source": [
    "# date is on x axis\n",
    "x = df_amzn['Date_'].values"
   ]
  },
  {
   "cell_type": "code",
   "execution_count": 109,
   "metadata": {},
   "outputs": [],
   "source": [
    "# daily high price is on y axis\n",
    "y = df_amzn['High'].values"
   ]
  },
  {
   "cell_type": "code",
   "execution_count": 124,
   "metadata": {},
   "outputs": [
    {
     "data": {
      "image/png": "[encoded data removed]",
      "text/plain": [
       "<Figure size 432x288 with 1 Axes>"
      ]
     },
     "metadata": {},
     "output_type": "display_data"
    }
   ],
   "source": [
    "# plot on plt.plot\n",
    "plt.plot(x, y)\n",
    "plt.xlabel('Date')\n",
    "plt.ylabel('Daily High Price (USD)')\n",
    "plt.show()"
   ]
  }
 ],
 "metadata": {
  "kernelspec": {
   "display_name": "Python 3",
   "language": "python",
   "name": "python3"
  },
  "language_info": {
   "codemirror_mode": {
    "name": "ipython",
    "version": 3
   },
   "file_extension": ".py",
   "mimetype": "text/x-python",
   "name": "python",
   "nbconvert_exporter": "python",
   "pygments_lexer": "ipython3",
   "version": "3.6.4"
  },
  "toc": {
   "nav_menu": {},
   "number_sections": true,
   "sideBar": true,
   "skip_h1_title": false,
   "title_cell": "Table of Contents",
   "title_sidebar": "Contents",
   "toc_cell": false,
   "toc_position": {},
   "toc_section_display": true,
   "toc_window_display": true
  }
 },
 "nbformat": 4,
 "nbformat_minor": 2
}
